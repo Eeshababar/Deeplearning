{
  "nbformat": 4,
  "nbformat_minor": 0,
  "metadata": {
    "colab": {
      "name": "Introduction to tensors.ipynb",
      "provenance": []
    },
    "kernelspec": {
      "name": "python3",
      "display_name": "Python 3"
    },
    "language_info": {
      "name": "python"
    }
  },
  "cells": [
    {
      "cell_type": "code",
      "execution_count": null,
      "metadata": {
        "id": "jJooCzsAHUai"
      },
      "outputs": [],
      "source": [
        "import tensorflow as tf\n",
        "import numpy as np"
      ]
    },
    {
      "cell_type": "markdown",
      "source": [
        "#Introduction to tensors"
      ],
      "metadata": {
        "id": "7DEREn1DJnCV"
      }
    },
    {
      "cell_type": "code",
      "source": [
        "rank_zero_tensor = tf.constant(10)\n",
        "print(rank_zero_tensor)"
      ],
      "metadata": {
        "colab": {
          "base_uri": "https://localhost:8080/"
        },
        "id": "EAAcN5H7HdEp",
        "outputId": "6e5e81e9-78af-4310-96fb-4f6013503a55"
      },
      "execution_count": null,
      "outputs": [
        {
          "output_type": "stream",
          "name": "stdout",
          "text": [
            "tf.Tensor(10, shape=(), dtype=int32)\n"
          ]
        }
      ]
    },
    {
      "cell_type": "code",
      "source": [
        "rank_one_tensor = tf.constant([1.0,2.0,3.0])\n",
        "print(rank_one_tensor)\n",
        "rank_one_tensor_new = tf.constant([1,2,3])\n",
        "print(rank_one_tensor_new)\n"
      ],
      "metadata": {
        "colab": {
          "base_uri": "https://localhost:8080/"
        },
        "id": "C0b3lZJ4Hnog",
        "outputId": "27939792-fe50-48a7-9e69-4ba564c2aa3c"
      },
      "execution_count": null,
      "outputs": [
        {
          "output_type": "stream",
          "name": "stdout",
          "text": [
            "tf.Tensor([1. 2. 3.], shape=(3,), dtype=float32)\n",
            "tf.Tensor([1 2 3], shape=(3,), dtype=int32)\n"
          ]
        }
      ]
    },
    {
      "cell_type": "code",
      "source": [
        "rank_two_tensor = tf.constant([[1,2,3], [4,5,6], [7,8,9]])\n",
        "print(rank_two_tensor)\n",
        "rank_two_tensor_up = tf.constant([[1,2,3], [4,5,6], [7,8,9]], dtype=tf.float16) #we can setup data type by ourselve\n",
        "print(rank_two_tensor_up)"
      ],
      "metadata": {
        "colab": {
          "base_uri": "https://localhost:8080/"
        },
        "id": "PfX5mxrzH1ga",
        "outputId": "377c26e1-6d75-4c72-a03e-bb5a3df51fcf"
      },
      "execution_count": null,
      "outputs": [
        {
          "output_type": "stream",
          "name": "stdout",
          "text": [
            "tf.Tensor(\n",
            "[[1 2 3]\n",
            " [4 5 6]\n",
            " [7 8 9]], shape=(3, 3), dtype=int32)\n",
            "tf.Tensor(\n",
            "[[1. 2. 3.]\n",
            " [4. 5. 6.]\n",
            " [7. 8. 9.]], shape=(3, 3), dtype=float16)\n"
          ]
        }
      ]
    },
    {
      "cell_type": "code",
      "source": [
        "rank_three_tensor = tf.constant([[[1,2,3], [4,5,6]], [[7,8,9], [10,11,12]]])\n",
        "print(rank_three_tensor)\n"
      ],
      "metadata": {
        "colab": {
          "base_uri": "https://localhost:8080/"
        },
        "id": "u1G5n9uDIdZ2",
        "outputId": "306a4000-c448-4b14-82a9-9ed7f264dafd"
      },
      "execution_count": null,
      "outputs": [
        {
          "output_type": "stream",
          "name": "stdout",
          "text": [
            "tf.Tensor(\n",
            "[[[ 1  2  3]\n",
            "  [ 4  5  6]]\n",
            "\n",
            " [[ 7  8  9]\n",
            "  [10 11 12]]], shape=(2, 2, 3), dtype=int32)\n"
          ]
        }
      ]
    },
    {
      "cell_type": "markdown",
      "source": [
        "### Tensor to numpy"
      ],
      "metadata": {
        "id": "3ndrY9BBKEM2"
      }
    },
    {
      "cell_type": "code",
      "source": [
        "rank_two_tensor.numpy() #tensor to numpy"
      ],
      "metadata": {
        "colab": {
          "base_uri": "https://localhost:8080/"
        },
        "id": "6Bt5bDRfJLmS",
        "outputId": "d79935d2-dbcc-4e73-bc9d-2307f5c061dc"
      },
      "execution_count": null,
      "outputs": [
        {
          "output_type": "execute_result",
          "data": {
            "text/plain": [
              "array([[1, 2, 3],\n",
              "       [4, 5, 6],\n",
              "       [7, 8, 9]], dtype=int32)"
            ]
          },
          "metadata": {},
          "execution_count": 17
        }
      ]
    },
    {
      "cell_type": "code",
      "source": [
        "rank_three_tensor.numpy()"
      ],
      "metadata": {
        "colab": {
          "base_uri": "https://localhost:8080/"
        },
        "id": "PIbA_UZiJzBe",
        "outputId": "0f6d2a75-ed7a-4f97-bb03-c61b3eaf2297"
      },
      "execution_count": null,
      "outputs": [
        {
          "output_type": "execute_result",
          "data": {
            "text/plain": [
              "array([[[ 1,  2,  3],\n",
              "        [ 4,  5,  6]],\n",
              "\n",
              "       [[ 7,  8,  9],\n",
              "        [10, 11, 12]]], dtype=int32)"
            ]
          },
          "metadata": {},
          "execution_count": 18
        }
      ]
    },
    {
      "cell_type": "code",
      "source": [
        "a = tf.constant([[2,3], [8,9]])\n",
        "b = tf.constant([[6,7], [11,12]])\n",
        "print(tf.add(a,b))\n",
        "print(tf.multiply(a,b))\n",
        "print(tf.matmul(a,b))\n"
      ],
      "metadata": {
        "colab": {
          "base_uri": "https://localhost:8080/"
        },
        "id": "Gx3mBb3vJ9rS",
        "outputId": "17e45f22-43ba-4468-d4e0-2eec6194dc45"
      },
      "execution_count": null,
      "outputs": [
        {
          "output_type": "stream",
          "name": "stdout",
          "text": [
            "tf.Tensor(\n",
            "[[ 8 10]\n",
            " [19 21]], shape=(2, 2), dtype=int32)\n",
            "tf.Tensor(\n",
            "[[ 12  21]\n",
            " [ 88 108]], shape=(2, 2), dtype=int32)\n",
            "tf.Tensor(\n",
            "[[ 45  50]\n",
            " [147 164]], shape=(2, 2), dtype=int32)\n"
          ]
        }
      ]
    },
    {
      "cell_type": "code",
      "source": [
        "print(a+b) #element-wise addition\n",
        "print(a*b) #element-wise multiplication\n",
        "print(a@b) #matrix multiplication\n"
      ],
      "metadata": {
        "colab": {
          "base_uri": "https://localhost:8080/"
        },
        "id": "YEKBWvXbYdnt",
        "outputId": "bcbdcc56-a415-40e4-c620-2ea984642a48"
      },
      "execution_count": null,
      "outputs": [
        {
          "output_type": "stream",
          "name": "stdout",
          "text": [
            "tf.Tensor(\n",
            "[[ 8 10]\n",
            " [19 21]], shape=(2, 2), dtype=int32)\n",
            "tf.Tensor(\n",
            "[[ 12  21]\n",
            " [ 88 108]], shape=(2, 2), dtype=int32)\n",
            "tf.Tensor(\n",
            "[[ 45  50]\n",
            " [147 164]], shape=(2, 2), dtype=int32)\n"
          ]
        }
      ]
    },
    {
      "cell_type": "code",
      "source": [
        "d = tf.zeros([2,3,4,5])"
      ],
      "metadata": {
        "id": "kXEB2jUzZFk-"
      },
      "execution_count": null,
      "outputs": []
    },
    {
      "cell_type": "code",
      "source": [
        "print(\"type of every element\", d.dtype)\n",
        "print(\"number of dimension\", d.ndim)\n",
        "print(\"shape\", d.shape)\n",
        "print(\"total number of elemets\", tf.size(d))\n",
        "print(\"elements of axis zero\", d.shape[0])\n",
        "print(\"elements of axis one\", d.shape[1])\n",
        "print(\"elements of axis two\", d.shape[2])\n",
        "print(\"elements of axis three\", d.shape[3])"
      ],
      "metadata": {
        "colab": {
          "base_uri": "https://localhost:8080/"
        },
        "id": "nZfR80PEZUaG",
        "outputId": "c0f04038-7b0c-4e38-90ce-1f2e04fedb5f"
      },
      "execution_count": null,
      "outputs": [
        {
          "output_type": "stream",
          "name": "stdout",
          "text": [
            "type of every element <dtype: 'float32'>\n",
            "number of dimension 4\n",
            "shape (2, 3, 4, 5)\n",
            "total number of elemets tf.Tensor(120, shape=(), dtype=int32)\n",
            "elements of axis zero 2\n",
            "elements of axis one 3\n",
            "elements of axis two 4\n",
            "elements of axis three 5\n"
          ]
        }
      ]
    },
    {
      "cell_type": "code",
      "source": [
        "rank1_tensor = tf.constant([1,2,3,4,5,6,7,8])\n",
        "print(\"oth element\", rank1_tensor[0])\n",
        "print(\"first element\", rank1_tensor[1])\n",
        "print(\"before 4\", rank1_tensor[:3])"
      ],
      "metadata": {
        "colab": {
          "base_uri": "https://localhost:8080/"
        },
        "id": "1uulq2SDZo90",
        "outputId": "45fde637-c2c1-4bdd-c242-b776ad72d876"
      },
      "execution_count": null,
      "outputs": [
        {
          "output_type": "stream",
          "name": "stdout",
          "text": [
            "oth element tf.Tensor(1, shape=(), dtype=int32)\n",
            "first element tf.Tensor(2, shape=(), dtype=int32)\n",
            "before 4 tf.Tensor([1 2 3], shape=(3,), dtype=int32)\n"
          ]
        }
      ]
    },
    {
      "cell_type": "code",
      "source": [
        "rank2_tensor = tf.constant([[1,2], [5,6]])\n",
        "print(\"two will be then\" , rank2_tensor[0,1])\n",
        "print(\"6 will be then\", rank2_tensor[1,1])\n"
      ],
      "metadata": {
        "colab": {
          "base_uri": "https://localhost:8080/"
        },
        "id": "FpUC2k5Ka1zD",
        "outputId": "858f1bce-194a-432e-aa33-bfa0dd7eb0e4"
      },
      "execution_count": null,
      "outputs": [
        {
          "output_type": "stream",
          "name": "stdout",
          "text": [
            "two will be then tf.Tensor(2, shape=(), dtype=int32)\n",
            "6 will be then tf.Tensor(6, shape=(), dtype=int32)\n"
          ]
        }
      ]
    },
    {
      "cell_type": "code",
      "source": [
        "rank_three_tensor = tf.constant([[[1,2,3], [4,5,6]], [[7,8,9], [10,11,12]]])\n",
        "print(rank_three_tensor)\n",
        "print(rank_three_tensor[1,1,2])"
      ],
      "metadata": {
        "colab": {
          "base_uri": "https://localhost:8080/"
        },
        "id": "ReeeNcIBculD",
        "outputId": "675bd9a9-a820-497a-af33-c75a4449fea4"
      },
      "execution_count": null,
      "outputs": [
        {
          "output_type": "stream",
          "name": "stdout",
          "text": [
            "tf.Tensor(\n",
            "[[[ 1  2  3]\n",
            "  [ 4  5  6]]\n",
            "\n",
            " [[ 7  8  9]\n",
            "  [10 11 12]]], shape=(2, 2, 3), dtype=int32)\n",
            "tf.Tensor(12, shape=(), dtype=int32)\n"
          ]
        }
      ]
    },
    {
      "cell_type": "markdown",
      "source": [
        "#Reshaping"
      ],
      "metadata": {
        "id": "8dCFZ3-Padrg"
      }
    },
    {
      "cell_type": "code",
      "source": [
        "var_x = tf.Variable(tf.constant([[1], [2], [3]]))\n",
        "print(var_x)\n",
        "print(var_x.shape)"
      ],
      "metadata": {
        "colab": {
          "base_uri": "https://localhost:8080/"
        },
        "id": "-emfRuMNdj2w",
        "outputId": "8b949073-75b4-4655-8830-c7a5eabcfc71"
      },
      "execution_count": null,
      "outputs": [
        {
          "output_type": "stream",
          "name": "stdout",
          "text": [
            "<tf.Variable 'Variable:0' shape=(3, 1) dtype=int32, numpy=\n",
            "array([[1],\n",
            "       [2],\n",
            "       [3]], dtype=int32)>\n",
            "(3, 1)\n"
          ]
        }
      ]
    },
    {
      "cell_type": "code",
      "source": [
        "reshaped = tf.reshape(var_x, [1,3])"
      ],
      "metadata": {
        "id": "busl0Mp1bc7F"
      },
      "execution_count": null,
      "outputs": []
    },
    {
      "cell_type": "code",
      "source": [
        "print(reshaped)"
      ],
      "metadata": {
        "colab": {
          "base_uri": "https://localhost:8080/"
        },
        "id": "czKg-2xNb8AG",
        "outputId": "6e9aa05f-bbeb-4c1b-b8ff-783ea0ced8cc"
      },
      "execution_count": null,
      "outputs": [
        {
          "output_type": "stream",
          "name": "stdout",
          "text": [
            "tf.Tensor([[1 2 3]], shape=(1, 3), dtype=int32)\n"
          ]
        }
      ]
    },
    {
      "cell_type": "code",
      "source": [
        "print(rank_three_tensor)"
      ],
      "metadata": {
        "colab": {
          "base_uri": "https://localhost:8080/"
        },
        "id": "LyR8T9-ccDhH",
        "outputId": "c4e5f943-017f-46c7-f4bc-8be40a13ac7f"
      },
      "execution_count": null,
      "outputs": [
        {
          "output_type": "stream",
          "name": "stdout",
          "text": [
            "tf.Tensor(\n",
            "[[[ 1  2  3]\n",
            "  [ 4  5  6]]\n",
            "\n",
            " [[ 7  8  9]\n",
            "  [10 11 12]]], shape=(2, 2, 3), dtype=int32)\n"
          ]
        }
      ]
    },
    {
      "cell_type": "code",
      "source": [
        "tf.reshape(rank_three_tensor, [-1]) #Whatever fits"
      ],
      "metadata": {
        "colab": {
          "base_uri": "https://localhost:8080/"
        },
        "id": "vSggmauGcVQp",
        "outputId": "74d14810-c54b-49bf-86f8-e9aa19df834a"
      },
      "execution_count": null,
      "outputs": [
        {
          "output_type": "execute_result",
          "data": {
            "text/plain": [
              "<tf.Tensor: shape=(12,), dtype=int32, numpy=array([ 1,  2,  3,  4,  5,  6,  7,  8,  9, 10, 11, 12], dtype=int32)>"
            ]
          },
          "metadata": {},
          "execution_count": 18
        }
      ]
    },
    {
      "cell_type": "code",
      "source": [
        "print(rank_three_tensor.shape)\n",
        "reshape_three = tf.reshape(rank_three_tensor, [3,2,2]) \n",
        "print(reshape_three)"
      ],
      "metadata": {
        "colab": {
          "base_uri": "https://localhost:8080/"
        },
        "id": "tVMcNmxocdVh",
        "outputId": "6cfcc283-a4b3-4d57-a6bc-b3d93018c403"
      },
      "execution_count": null,
      "outputs": [
        {
          "output_type": "stream",
          "name": "stdout",
          "text": [
            "(2, 2, 3)\n",
            "tf.Tensor(\n",
            "[[[ 1  2]\n",
            "  [ 3  4]]\n",
            "\n",
            " [[ 5  6]\n",
            "  [ 7  8]]\n",
            "\n",
            " [[ 9 10]\n",
            "  [11 12]]], shape=(3, 2, 2), dtype=int32)\n"
          ]
        }
      ]
    },
    {
      "cell_type": "markdown",
      "source": [
        "#Data type"
      ],
      "metadata": {
        "id": "HR6O9yXDdC8M"
      }
    },
    {
      "cell_type": "code",
      "source": [
        "tensor_16 = tf.constant([2.2,3.5,8.6])\n",
        "print(tensor_16)"
      ],
      "metadata": {
        "colab": {
          "base_uri": "https://localhost:8080/"
        },
        "id": "7v8iBE7ecixa",
        "outputId": "82c779cf-a872-4875-c0e3-ee39cc0b0494"
      },
      "execution_count": null,
      "outputs": [
        {
          "output_type": "stream",
          "name": "stdout",
          "text": [
            "tf.Tensor([2.2 3.5 8.6], shape=(3,), dtype=float32)\n"
          ]
        }
      ]
    },
    {
      "cell_type": "code",
      "source": [
        "tf_u8 = tf.cast (tensor_16,dtype=tf.uint8) #lost decimal part\n",
        "print(tf_u8 )"
      ],
      "metadata": {
        "colab": {
          "base_uri": "https://localhost:8080/"
        },
        "id": "4GaAsPUadKfh",
        "outputId": "ef99f16b-de3b-4a84-b801-e7af5f12e4ee"
      },
      "execution_count": null,
      "outputs": [
        {
          "output_type": "stream",
          "name": "stdout",
          "text": [
            "tf.Tensor([2 3 8], shape=(3,), dtype=uint8)\n"
          ]
        }
      ]
    },
    {
      "cell_type": "markdown",
      "source": [
        "tf.convert_to_tensor\n",
        "Most object classes like NumPy's ndarray, TensorShape, Python lists, and tf.Variable will all get converted to Tensor automatically."
      ],
      "metadata": {
        "id": "vD43x-AgdtfB"
      }
    },
    {
      "cell_type": "code",
      "source": [
        "rank_three_tensor = tf.constant([[[1,2,3], [4,5,6]], [[7,8,9], [10,11,12]]])\n",
        "print(rank_three_tensor)"
      ],
      "metadata": {
        "colab": {
          "base_uri": "https://localhost:8080/"
        },
        "id": "a9UohAa4dkVZ",
        "outputId": "725ed63b-b63d-41da-9b6a-f66d2fc05adb"
      },
      "execution_count": null,
      "outputs": [
        {
          "output_type": "stream",
          "name": "stdout",
          "text": [
            "tf.Tensor(\n",
            "[[[ 1  2  3]\n",
            "  [ 4  5  6]]\n",
            "\n",
            " [[ 7  8  9]\n",
            "  [10 11 12]]], shape=(2, 2, 3), dtype=int32)\n"
          ]
        }
      ]
    },
    {
      "cell_type": "code",
      "source": [
        "print(tf.squeeze(rank_three_tensor))"
      ],
      "metadata": {
        "colab": {
          "base_uri": "https://localhost:8080/"
        },
        "id": "YcO-s32beJzT",
        "outputId": "4b350d87-089b-4444-8f8f-ebb4142f0466"
      },
      "execution_count": null,
      "outputs": [
        {
          "output_type": "stream",
          "name": "stdout",
          "text": [
            "tf.Tensor(\n",
            "[[[ 1  2  3]\n",
            "  [ 4  5  6]]\n",
            "\n",
            " [[ 7  8  9]\n",
            "  [10 11 12]]], shape=(2, 2, 3), dtype=int32)\n"
          ]
        }
      ]
    },
    {
      "cell_type": "code",
      "source": [
        "import torch"
      ],
      "metadata": {
        "id": "81_gdASJePlx"
      },
      "execution_count": null,
      "outputs": []
    },
    {
      "cell_type": "code",
      "source": [
        "tensor = torch.tensor([[1,2,3,4], [5,6,7,8], [9,10,11,12]])"
      ],
      "metadata": {
        "id": "Ft7eYeKzgWf9"
      },
      "execution_count": null,
      "outputs": []
    },
    {
      "cell_type": "code",
      "source": [
        "tensor.shape"
      ],
      "metadata": {
        "colab": {
          "base_uri": "https://localhost:8080/"
        },
        "id": "fOU06HXPgjkM",
        "outputId": "6391132f-b60c-44c5-e546-ea086f72fbc9"
      },
      "execution_count": null,
      "outputs": [
        {
          "output_type": "execute_result",
          "data": {
            "text/plain": [
              "torch.Size([3, 4])"
            ]
          },
          "metadata": {},
          "execution_count": 30
        }
      ]
    },
    {
      "cell_type": "code",
      "source": [
        "print(tensor.size())"
      ],
      "metadata": {
        "colab": {
          "base_uri": "https://localhost:8080/"
        },
        "id": "muipdcE-grnm",
        "outputId": "f3158baf-f04d-41f9-9a66-03aa7db1577a"
      },
      "execution_count": null,
      "outputs": [
        {
          "output_type": "stream",
          "name": "stdout",
          "text": [
            "torch.Size([3, 4])\n"
          ]
        }
      ]
    },
    {
      "cell_type": "code",
      "source": [
        "len(tensor.shape) #this is the rank"
      ],
      "metadata": {
        "colab": {
          "base_uri": "https://localhost:8080/"
        },
        "id": "FpMq1yevgzbQ",
        "outputId": "b205630b-28e3-40fb-d8ba-6e917fa77ce2"
      },
      "execution_count": null,
      "outputs": [
        {
          "output_type": "execute_result",
          "data": {
            "text/plain": [
              "2"
            ]
          },
          "metadata": {},
          "execution_count": 36
        }
      ]
    },
    {
      "cell_type": "code",
      "source": [
        "torch.tensor(tensor.shape).prod() #total number of element"
      ],
      "metadata": {
        "colab": {
          "base_uri": "https://localhost:8080/"
        },
        "id": "LDOBFvdchIdM",
        "outputId": "e43edaba-6e8b-4cc1-c115-bd2e1dbb0a9f"
      },
      "execution_count": null,
      "outputs": [
        {
          "output_type": "execute_result",
          "data": {
            "text/plain": [
              "tensor(12)"
            ]
          },
          "metadata": {},
          "execution_count": 37
        }
      ]
    },
    {
      "cell_type": "code",
      "source": [
        "tensor.numel() #number of elements"
      ],
      "metadata": {
        "colab": {
          "base_uri": "https://localhost:8080/"
        },
        "id": "h3DyC6ENhjDd",
        "outputId": "025628fa-8d61-4b17-8c82-ac7fc36972a2"
      },
      "execution_count": null,
      "outputs": [
        {
          "output_type": "execute_result",
          "data": {
            "text/plain": [
              "12"
            ]
          },
          "metadata": {},
          "execution_count": 39
        }
      ]
    },
    {
      "cell_type": "code",
      "source": [
        "tensor.reshape(1,12)"
      ],
      "metadata": {
        "colab": {
          "base_uri": "https://localhost:8080/"
        },
        "id": "KngUXvoDhkwp",
        "outputId": "a9175c1d-c106-47cd-fec4-31ce8d036c09"
      },
      "execution_count": null,
      "outputs": [
        {
          "output_type": "execute_result",
          "data": {
            "text/plain": [
              "tensor([[ 1,  2,  3,  4,  5,  6,  7,  8,  9, 10, 11, 12]])"
            ]
          },
          "metadata": {},
          "execution_count": 40
        }
      ]
    },
    {
      "cell_type": "code",
      "source": [
        "tensor.reshape(6,2) #The prod same 12\n"
      ],
      "metadata": {
        "colab": {
          "base_uri": "https://localhost:8080/"
        },
        "id": "4YVgmgt6h49V",
        "outputId": "3035dcc9-9dec-4588-a1ef-408de4ba4524"
      },
      "execution_count": null,
      "outputs": [
        {
          "output_type": "execute_result",
          "data": {
            "text/plain": [
              "tensor([[ 1,  2],\n",
              "        [ 3,  4],\n",
              "        [ 5,  6],\n",
              "        [ 7,  8],\n",
              "        [ 9, 10],\n",
              "        [11, 12]])"
            ]
          },
          "metadata": {},
          "execution_count": 41
        }
      ]
    },
    {
      "cell_type": "code",
      "source": [
        "print(tensor.reshape(1,12).squeeze())\n",
        "print(tensor.reshape(1,12).squeeze().shape) #removed all axis with dimension 1\n"
      ],
      "metadata": {
        "colab": {
          "base_uri": "https://localhost:8080/"
        },
        "id": "XUxWwjlFh8QL",
        "outputId": "9da6f71f-bd91-4d2e-bdd4-4cb1142f2f59"
      },
      "execution_count": null,
      "outputs": [
        {
          "output_type": "stream",
          "name": "stdout",
          "text": [
            "tensor([ 1,  2,  3,  4,  5,  6,  7,  8,  9, 10, 11, 12])\n",
            "torch.Size([12])\n"
          ]
        }
      ]
    },
    {
      "cell_type": "code",
      "source": [
        "print(tensor.reshape(1,12).squeeze().unsqueeze(dim=0))\n",
        "print(tensor.reshape(1,12).squeeze().unsqueeze(dim=0).shape) #getting 1 back"
      ],
      "metadata": {
        "colab": {
          "base_uri": "https://localhost:8080/"
        },
        "id": "S-VmnpRZiQA1",
        "outputId": "8dffbe42-595f-4a37-bbdd-aebb2edb2ee0"
      },
      "execution_count": null,
      "outputs": [
        {
          "output_type": "stream",
          "name": "stdout",
          "text": [
            "tensor([[ 1,  2,  3,  4,  5,  6,  7,  8,  9, 10, 11, 12]])\n",
            "torch.Size([1, 12])\n"
          ]
        }
      ]
    },
    {
      "cell_type": "markdown",
      "source": [
        "flatten converts 2d to 1d array"
      ],
      "metadata": {
        "id": "frqa86XZjAi5"
      }
    },
    {
      "cell_type": "code",
      "source": [
        "def flatten(t):\n",
        "    t = t.reshape(1,-1)\n",
        "    t = t.squeeze()\n",
        "    return t"
      ],
      "metadata": {
        "id": "lHpSV2n2ig2C"
      },
      "execution_count": null,
      "outputs": []
    },
    {
      "cell_type": "code",
      "source": [
        "t= torch.tensor([[1,2,3,4], [5,6,7,8], [9,10,11,12]])\n",
        "print(tensor.shape)"
      ],
      "metadata": {
        "colab": {
          "base_uri": "https://localhost:8080/"
        },
        "id": "aWDQ-CH3jij7",
        "outputId": "cc3387ad-894e-4d7c-a200-e70c157e7bdd"
      },
      "execution_count": null,
      "outputs": [
        {
          "output_type": "stream",
          "name": "stdout",
          "text": [
            "torch.Size([3, 4])\n"
          ]
        }
      ]
    },
    {
      "cell_type": "code",
      "source": [
        "flated = flatten(t)\n",
        "print(flated.shape) #2d to 1d and squeezed that is what flatten does\n"
      ],
      "metadata": {
        "colab": {
          "base_uri": "https://localhost:8080/"
        },
        "id": "1HszqeR4jpMz",
        "outputId": "e4359430-9108-46df-ac29-e03507d1cd71"
      },
      "execution_count": null,
      "outputs": [
        {
          "output_type": "stream",
          "name": "stdout",
          "text": [
            "torch.Size([12])\n"
          ]
        }
      ]
    },
    {
      "cell_type": "code",
      "source": [
        "tensor= torch.tensor([[1,2,3,4], [5,6,7,8], [9,10,11,12]])"
      ],
      "metadata": {
        "id": "lWVBnT6ykxNj"
      },
      "execution_count": null,
      "outputs": []
    },
    {
      "cell_type": "code",
      "source": [
        "tensor.reshape(12)"
      ],
      "metadata": {
        "colab": {
          "base_uri": "https://localhost:8080/"
        },
        "id": "C5BgByPujuwa",
        "outputId": "f1ad8a49-5ff4-44fb-ae99-04eb408d25c5"
      },
      "execution_count": null,
      "outputs": [
        {
          "output_type": "execute_result",
          "data": {
            "text/plain": [
              "tensor([ 1,  2,  3,  4,  5,  6,  7,  8,  9, 10, 11, 12])"
            ]
          },
          "metadata": {},
          "execution_count": 60
        }
      ]
    },
    {
      "cell_type": "code",
      "source": [
        "t1 = torch.tensor([[1,2], [3,4]])\n",
        "t2 = torch.tensor([[8,9], [10,11]])"
      ],
      "metadata": {
        "id": "hWzZukvnksDx"
      },
      "execution_count": null,
      "outputs": []
    },
    {
      "cell_type": "code",
      "source": [
        "new = torch.cat([t1,t2], dim=0)"
      ],
      "metadata": {
        "id": "dBNDqMm5lHvb"
      },
      "execution_count": null,
      "outputs": []
    },
    {
      "cell_type": "code",
      "source": [
        "print(new.shape)"
      ],
      "metadata": {
        "colab": {
          "base_uri": "https://localhost:8080/"
        },
        "id": "R0kraYkklZIs",
        "outputId": "29fc7c11-aa9e-40b3-f477-864fcd350617"
      },
      "execution_count": null,
      "outputs": [
        {
          "output_type": "stream",
          "name": "stdout",
          "text": [
            "torch.Size([4, 2])\n"
          ]
        }
      ]
    },
    {
      "cell_type": "code",
      "source": [
        "a = tf.constant([ [[0, 1, 2, 3, 4], [5, 6, 7, 8, 9]], [[10, 11, 12, 13, 14], [15, 16, 17, 18, 19]], [[20, 21, 22, 23, 24], [25, 26, 27, 28, 29]],])\n",
        "print(a.shape)"
      ],
      "metadata": {
        "colab": {
          "base_uri": "https://localhost:8080/"
        },
        "id": "PLC_g4yMlfKr",
        "outputId": "34a7d7b3-37d3-49ca-adb2-7762d8ac3069"
      },
      "execution_count": null,
      "outputs": [
        {
          "output_type": "stream",
          "name": "stdout",
          "text": [
            "(3, 2, 5)\n"
          ]
        }
      ]
    },
    {
      "cell_type": "code",
      "source": [
        "b = tf.constant([\n",
        "\n",
        "           [[0, 1, 2, 3, 4],\n",
        "\n",
        "            [5, 6, 7, 8, 9]],\n",
        "\n",
        "           [[10, 11, 12, 13, 14],\n",
        "\n",
        "            [15, 16, 17, 18, 19]],\n",
        "\n",
        "           [[20, 21, 22, 23, 24],\n",
        "\n",
        "            [25, 26, 27, 28, 29]],])\n",
        "print(len(b.shape))"
      ],
      "metadata": {
        "colab": {
          "base_uri": "https://localhost:8080/"
        },
        "id": "H_XE3Cj8m7wr",
        "outputId": "149d90ff-5d49-420f-b44a-3c3899ae4eb2"
      },
      "execution_count": null,
      "outputs": [
        {
          "output_type": "stream",
          "name": "stdout",
          "text": [
            "3\n"
          ]
        }
      ]
    },
    {
      "cell_type": "code",
      "source": [
        "tensor = tf.constant([2, 14, 10, 12, 15, 3, 2, 5, 15, 78])\n",
        "print(tensor[:5])"
      ],
      "metadata": {
        "colab": {
          "base_uri": "https://localhost:8080/"
        },
        "id": "TBnZaVe7nXit",
        "outputId": "0f0923c2-cee1-4b0d-a94f-eaf18df18a35"
      },
      "execution_count": null,
      "outputs": [
        {
          "output_type": "stream",
          "name": "stdout",
          "text": [
            "tf.Tensor([ 2 14 10 12 15], shape=(5,), dtype=int32)\n"
          ]
        }
      ]
    },
    {
      "cell_type": "code",
      "source": [
        "tensor[0::2]"
      ],
      "metadata": {
        "colab": {
          "base_uri": "https://localhost:8080/"
        },
        "id": "Dq6XsIDZni8_",
        "outputId": "3bba30d3-3603-440b-8f47-d877f9f460c0"
      },
      "execution_count": null,
      "outputs": [
        {
          "output_type": "execute_result",
          "data": {
            "text/plain": [
              "<tf.Tensor: shape=(5,), dtype=int32, numpy=array([ 2, 10, 15,  2, 15], dtype=int32)>"
            ]
          },
          "metadata": {},
          "execution_count": 72
        }
      ]
    },
    {
      "cell_type": "code",
      "source": [
        "t = [\n",
        "\n",
        "[3, 2, 1],\n",
        "\n",
        "[6, 5, 4],\n",
        "\n",
        "[9, 8, 7]\n",
        "\n",
        "]\n",
        "\n",
        "print(t[1][0])"
      ],
      "metadata": {
        "colab": {
          "base_uri": "https://localhost:8080/"
        },
        "id": "5WFXZrz5ntUG",
        "outputId": "008ca11f-e65e-4be8-dfa4-03dddf9e28f4"
      },
      "execution_count": null,
      "outputs": [
        {
          "output_type": "stream",
          "name": "stdout",
          "text": [
            "6\n"
          ]
        }
      ]
    },
    {
      "cell_type": "code",
      "source": [
        ""
      ],
      "metadata": {
        "id": "P0-_dDbVn2wg"
      },
      "execution_count": null,
      "outputs": []
    }
  ]
}